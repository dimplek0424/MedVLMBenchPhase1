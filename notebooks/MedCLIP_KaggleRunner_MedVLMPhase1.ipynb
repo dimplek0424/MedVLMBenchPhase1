{
 "cells": [
  {
   "cell_type": "markdown",
   "id": "2d7b37b3",
   "metadata": {},
   "source": [
    "\n",
    "# MedCLIP_KaggleRunner_MedVLMPhase1\n",
    "This notebook reproduces the workflow we used on Kaggle for the IU Chest X‑ray projection benchmark with **MedCLIP**.\n",
    "\n",
    "> **Note:** Kaggle restarts on GPU/session change. Re-run from the top (clone + installs).\n",
    "---\n"
   ]
  },
  {
   "cell_type": "code",
   "execution_count": null,
   "id": "1169f0e5",
   "metadata": {},
   "outputs": [],
   "source": [
    "# 🧰 1) Setup: clone repo, set paths, install deps, add repo to path\n",
    "!git clone https://github.com/dimplek0424/MedVLMPhase1-KagglePublic.git\n",
    "%cd /kaggle/working/MedVLMPhase1-KagglePublic\n",
    "\n",
    "# MedCLIP + helpers (pinning versions compatible with Kaggle image)\n",
    "!pip install --quiet \"medclip==0.0.3\" \"textaugment>=1.3.4\" \"wget\"\n",
    "\n",
    "import os, sys, glob\n",
    "os.environ[\"DATA_DIR\"]   = \"/kaggle/input/chest-xrays-indiana-university\"\n",
    "os.environ[\"OUTPUT_DIR\"] = \"/kaggle/working/outputs\"\n",
    "\n",
    "print(\"python:\", sys.executable)\n",
    "print(\"REPO_DIR:\", os.getcwd())\n",
    "print(\"DATA_DIR:\", os.getenv(\"DATA_DIR\"))\n",
    "print(\"OUTPUT_DIR:\", os.getenv(\"OUTPUT_DIR\"))\n",
    "\n",
    "# quick peek to confirm config files present\n",
    "!ls -alh configs\n"
   ]
  },
  {
   "cell_type": "code",
   "execution_count": null,
   "id": "fb792675",
   "metadata": {},
   "outputs": [],
   "source": [
    "\n",
    "# ✅ 2) Sanity: check critical imports\n",
    "import torch, torchvision\n",
    "from PIL import Image as _PIL_Image  # loads Pillow\n",
    "print(\"torch:\", torch.__version__, \"| torchvision:\", torchvision.__version__)\n",
    "\n",
    "import medclip\n",
    "from transformers import AutoTokenizer, CLIPProcessor\n",
    "print(\"✅ medclip import ok\")\n",
    "print(\"✅ transformers AutoTokenizer ok\")\n",
    "print(\"✅ transformers CLIPProcessor ok\")\n",
    "\n",
    "!ls -alh configs\n"
   ]
  },
  {
   "cell_type": "code",
   "execution_count": null,
   "id": "08942eef",
   "metadata": {},
   "outputs": [],
   "source": [
    "\n",
    "# 🚀 3) Run: MedCLIP projection benchmark\n",
    "import os, sys, subprocess\n",
    "\n",
    "cfg  = \"configs/dataset_iu_v03_full.yaml\"\n",
    "task = \"configs/task_projection_v01.yaml\"\n",
    "out  = \"results/projection/iu_v03_full_medclip.csv\"\n",
    "\n",
    "os.makedirs(\"results/projection\", exist_ok=True)\n",
    "\n",
    "cmd = [sys.executable, \"scripts/projection_medclip.py\",\n",
    "       \"--config\", cfg, \"--task\", task, \"--out\", out]\n",
    "print(\"Running:\", \" \".join(cmd))\n",
    "subprocess.check_call(cmd)\n",
    "print(\"\\n✅ Done. See\", out)\n"
   ]
  },
  {
   "cell_type": "code",
   "execution_count": null,
   "id": "9655a512",
   "metadata": {},
   "outputs": [],
   "source": [
    "# Optional: Quick smoke-check of results\n",
    "import pandas as pd, os\n",
    "csv_path = \"results/projection/iu_v03_full_medclip.csv\"\n",
    "assert os.path.exists(csv_path), \"Output CSV not found.\"\n",
    "df = pd.read_csv(csv_path)\n",
    "print(df.head(3))\n",
    "print(\"\\nRows:\", len(df))"
   ]
  },
  {
   "cell_type": "code",
   "execution_count": null,
   "id": "e831e4b9",
   "metadata": {},
   "outputs": [],
   "source": [
    "# Optional:Save results to download later\n",
    "!zip -r /kaggle/working/medclip_results.zip results\n",
    "\n",
    "#You can then download medclip_results.zip from the right file panel."
   ]
  },
  {
   "cell_type": "code",
   "execution_count": null,
   "id": "74c0259a",
   "metadata": {},
   "outputs": [],
   "source": [
    "# 📊 4) Evaluation: confusion matrix, cosine-similarity, t-SNE fallback\n",
    "\n",
    "# ---- EVALUATION: MedCLIP ----\n",
    "!python scripts/evaluate_views.py \\\n",
    "  --csv results/projection/iu_v03_full_medclip.csv \\\n",
    "  --outdir results/eval/medclip \\\n",
    "  --col_image image \\\n",
    "  --col_p1 p_frontal \\\n",
    "  --col_p2 p_lateral \\\n",
    "  --col_pred pred \\\n",
    "  --label1 frontal \\\n",
    "  --label2 lateral"
   ]
  },
  {
   "cell_type": "code",
   "execution_count": null,
   "id": "b915c703",
   "metadata": {},
   "outputs": [],
   "source": [
    "# Compress all evaluation artifacts\n",
    "!zip -r medclip_eval_results.zip results/eval/medclip\n",
    "\n",
    "# Kaggle automatically shows a \"Download\" button in Outputs"
   ]
  }
 ],
 "metadata": {
  "language_info": {
   "name": "python"
  }
 },
 "nbformat": 4,
 "nbformat_minor": 5
}
